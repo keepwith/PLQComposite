{
 "nbformat": 4,
 "nbformat_minor": 0,
 "metadata": {
  "colab": {
   "provenance": []
  },
  "kernelspec": {
   "name": "python3",
   "display_name": "Python 3 (ipykernel)",
   "language": "python"
  },
  "language_info": {
   "name": "python"
  }
 },
 "cells": [
  {
   "cell_type": "markdown",
   "source": [
    "# Example 4:Portfolio Optimization\n",
    "Suppose we have a portfolio optimization problem below.\n",
    "\\begin{equation}\n",
    "    \\min_{\\omega_1, \\cdots, \\omega_n}{\\sum\\limits^n_{i=1}(\\rho(\\omega_i)+\\frac{1}{2}\\omega_i^2)}, \\qquad \\text{s.t.} \\ \\sum\\limits_{i=1}^n \\omega_i =1, \\ \\text{and} \\  \\sum\\limits_{i=1}^n \\omega_i r_i \\geq \\alpha,\n",
    "\\end{equation}\n",
    "\n",
    "where $n$ is the number of stocks, $\\omega_i \\in \\mathbb{R}$ is the weight of the $i$-th stock with $\\omega_i < 0$ meaning shorting the stock and $\\omega_i > 0$ longing the stock, $\\gamma_i \\in \\mathbb{R}$ is the expected return of the $i$-th stock, $\\alpha \\in \\mathbb{R}$ is the minimum requirements for the expected return of the portfolio, and $\\rho: \\mathbb{R} \\rightarrow \\mathbb{R}^{+} $ is the transaction cost given by a univariate convex PLQ function. The workflow is similar to the previous example except for the input representation of the prototype PLQ function."
   ],
   "metadata": {
    "id": "1BcN65fJ3VFp"
   }
  },
  {
   "cell_type": "code",
   "source": [
    "import numpy as np\n",
    "z = np.linspace(-1,1,1000)\n",
    "interval0 = [1 if (-0.25<=i<=0.25) else 0 for i in z]\n",
    "interval1 = [1 if (-0.5<=i<-0.25 or 0.25<i<=0.5) else 0 for i in z]\n",
    "interval2 = [1 if (-0.75<=i<-0.5 or 0.5<i<=0.75) else 0 for i in z]\n",
    "interval3 = [1 if (i<=-0.75 or i>=0.75) else 0 for i in z]\n",
    "f = 0.4* (np.abs(z)) * interval0 + (0.8* (np.abs(z)-0.25)+0.1) * interval1 + (1.2* (np.abs(z)-0.5)+0.3) * interval2 + (1.6* (np.abs(z)-0.75)+0.6) * interval3"
   ],
   "metadata": {
    "id": "L36-fce53lAz",
    "ExecuteTime": {
     "end_time": "2025-01-03T09:29:56.525453Z",
     "start_time": "2025-01-03T09:29:56.468445Z"
    }
   },
   "outputs": [],
   "execution_count": 1
  },
  {
   "cell_type": "code",
   "source": [
    "import matplotlib.pyplot as plt\n",
    "\n",
    "plt.figure(figsize=(4, 3))\n",
    "plt.plot(z, f, label='Transaction cost')\n",
    "plt.legend()\n",
    "plt.xlabel('z')\n",
    "plt.ylabel('c(z)')\n",
    "plt.title('Transcation Cost')\n",
    "plt.show()"
   ],
   "metadata": {
    "colab": {
     "base_uri": "https://localhost:8080/",
     "height": 333
    },
    "id": "b--cyBZ96RAi",
    "outputId": "c1030f8e-2b61-47f8-b096-5df734d9807c",
    "ExecuteTime": {
     "end_time": "2025-01-03T09:29:57.358941Z",
     "start_time": "2025-01-03T09:29:57.139150Z"
    }
   },
   "outputs": [
    {
     "data": {
      "text/plain": [
       "<Figure size 400x300 with 1 Axes>"
      ],
      "image/png": "[encoded data removed]"
     },
     "metadata": {},
     "output_type": "display_data"
    }
   ],
   "execution_count": 2
  },
  {
   "cell_type": "markdown",
   "source": [
    "# 1.Data Generation"
   ],
   "metadata": {
    "id": "CX5j9qU28AB3"
   }
  },
  {
   "cell_type": "code",
   "source": [
    "from plqcom import PLQLoss, plq_to_rehloss, affine_transformation\n",
    "from rehline import ReHLine"
   ],
   "metadata": {
    "id": "BxQroEfQUwzP",
    "ExecuteTime": {
     "end_time": "2025-01-03T09:29:58.085091Z",
     "start_time": "2025-01-03T09:29:57.512088Z"
    }
   },
   "outputs": [],
   "execution_count": 3
  },
  {
   "cell_type": "code",
   "source": [
    "# Generate a portfolio dataset\n",
    "n, C = 10, 0.5\n",
    "np.random.seed(1024)\n",
    "X = np.eye(n)\n",
    "r = -0.5 +np.random.rand(10)"
   ],
   "metadata": {
    "id": "NRo0SGwnweGz",
    "ExecuteTime": {
     "end_time": "2025-01-03T09:29:58.089535Z",
     "start_time": "2025-01-03T09:29:58.087740Z"
    }
   },
   "outputs": [],
   "execution_count": 4
  },
  {
   "cell_type": "code",
   "source": [
    "X"
   ],
   "metadata": {
    "colab": {
     "base_uri": "https://localhost:8080/"
    },
    "id": "E_NCk1AGwrpB",
    "outputId": "27722243-176e-496d-e82e-b6de308889d3",
    "ExecuteTime": {
     "end_time": "2025-01-03T09:29:58.097561Z",
     "start_time": "2025-01-03T09:29:58.095407Z"
    }
   },
   "outputs": [
    {
     "data": {
      "text/plain": [
       "array([[1., 0., 0., 0., 0., 0., 0., 0., 0., 0.],\n",
       "       [0., 1., 0., 0., 0., 0., 0., 0., 0., 0.],\n",
       "       [0., 0., 1., 0., 0., 0., 0., 0., 0., 0.],\n",
       "       [0., 0., 0., 1., 0., 0., 0., 0., 0., 0.],\n",
       "       [0., 0., 0., 0., 1., 0., 0., 0., 0., 0.],\n",
       "       [0., 0., 0., 0., 0., 1., 0., 0., 0., 0.],\n",
       "       [0., 0., 0., 0., 0., 0., 1., 0., 0., 0.],\n",
       "       [0., 0., 0., 0., 0., 0., 0., 1., 0., 0.],\n",
       "       [0., 0., 0., 0., 0., 0., 0., 0., 1., 0.],\n",
       "       [0., 0., 0., 0., 0., 0., 0., 0., 0., 1.]])"
      ]
     },
     "execution_count": 5,
     "metadata": {},
     "output_type": "execute_result"
    }
   ],
   "execution_count": 5
  },
  {
   "cell_type": "code",
   "source": [
    "r"
   ],
   "metadata": {
    "colab": {
     "base_uri": "https://localhost:8080/"
    },
    "id": "xm1xoRYXwtT6",
    "outputId": "43f3791a-8594-4428-d080-e16595bd4025",
    "ExecuteTime": {
     "end_time": "2025-01-03T09:29:58.153690Z",
     "start_time": "2025-01-03T09:29:58.151527Z"
    }
   },
   "outputs": [
    {
     "data": {
      "text/plain": [
       "array([ 0.14769123,  0.49691358,  0.01880326,  0.15811273,  0.09906347,\n",
       "        0.25306733, -0.36375287, -0.49588288, -0.35049112,  0.198439  ])"
      ]
     },
     "execution_count": 6,
     "metadata": {},
     "output_type": "execute_result"
    }
   ],
   "execution_count": 6
  },
  {
   "cell_type": "markdown",
   "source": [
    "# 2. Create and Decompose the PLQ Loss"
   ],
   "metadata": {
    "id": "wR78j0ii8Z20"
   }
  },
  {
   "cell_type": "markdown",
   "source": [
    "Create the PLQ Loss object with the points."
   ],
   "metadata": {
    "id": "ru0onPXO8fYh"
   }
  },
  {
   "cell_type": "code",
   "source": [
    "# Create a PLQLoss object\n",
    "plqloss = PLQLoss(points=np.array([[-0.75,0.6],[-0.5,0.3],[-0.25,0.1],[0,0],[0.25,0.1],[0.5,0.3],[0.75,0.6]]),\n",
    "                  form='points')"
   ],
   "metadata": {
    "id": "vQ871_O-xKnU",
    "ExecuteTime": {
     "end_time": "2025-01-03T09:29:59.352617Z",
     "start_time": "2025-01-03T09:29:59.349465Z"
    }
   },
   "outputs": [],
   "execution_count": 7
  },
  {
   "cell_type": "markdown",
   "source": [
    "Convert the PLQ Loss to ReHLoss by calling its method plq_to_rehloss()"
   ],
   "metadata": {
    "id": "7qaY9j7r8r0s"
   }
  },
  {
   "cell_type": "code",
   "source": [
    "# Decompose the SVM loss into PLQ composite loss\n",
    "rehloss = plq_to_rehloss(plqloss)"
   ],
   "metadata": {
    "id": "c4RhTr0H8vz0",
    "ExecuteTime": {
     "end_time": "2025-01-03T09:29:59.943279Z",
     "start_time": "2025-01-03T09:29:59.940743Z"
    }
   },
   "outputs": [],
   "execution_count": 8
  },
  {
   "cell_type": "markdown",
   "source": [
    "# 3.Broadcast to all samples"
   ],
   "metadata": {
    "id": "aUs0g_yc8w9R"
   }
  },
  {
   "cell_type": "markdown",
   "source": [
    "For this classication problem,\n",
    "$L_i(z_i)=L(z)$ hich is a affine transformation of $L(z)$ with $p=1$, $q=0$, $c=0.5$"
   ],
   "metadata": {
    "id": "TJD4gytM852F"
   }
  },
  {
   "cell_type": "code",
   "source": [
    "# Broadcast the PLQ composite loss to all samples\n",
    "rehloss = affine_transformation(rehloss, n=X.shape[0], c=C, p=1, q=0)"
   ],
   "metadata": {
    "id": "2nm4wxpLzjnP",
    "ExecuteTime": {
     "end_time": "2025-01-03T09:30:00.835566Z",
     "start_time": "2025-01-03T09:30:00.833510Z"
    }
   },
   "outputs": [],
   "execution_count": 9
  },
  {
   "cell_type": "code",
   "source": [
    "print(rehloss.relu_coef.shape)\n",
    "print(\"First ten sample relu coefficients: %s\" % rehloss.relu_coef[0][:10])\n",
    "print(\"First ten sample relu intercepts: %s\" % rehloss.relu_intercept[0][:10])"
   ],
   "metadata": {
    "colab": {
     "base_uri": "https://localhost:8080/"
    },
    "id": "Sa5OF9UYzpOG",
    "outputId": "b29a6439-c8e7-4864-f45b-e1429307aa99",
    "ExecuteTime": {
     "end_time": "2025-01-03T09:30:01.177404Z",
     "start_time": "2025-01-03T09:30:01.174810Z"
    }
   },
   "outputs": [
    {
     "name": "stdout",
     "output_type": "stream",
     "text": [
      "(6, 10)\n",
      "First ten sample relu coefficients: [-0.2 -0.2 -0.2 -0.2 -0.2 -0.2 -0.2 -0.2 -0.2 -0.2]\n",
      "First ten sample relu intercepts: [0. 0. 0. 0. 0. 0. 0. 0. 0. 0.]\n"
     ]
    }
   ],
   "execution_count": 10
  },
  {
   "cell_type": "markdown",
   "source": [
    "# 4. Use ReHLine to solve the problem"
   ],
   "metadata": {
    "id": "H0Etm44s9dPj"
   }
  },
  {
   "cell_type": "code",
   "source": [
    "A = np.array([r,np.ones(10)])\n",
    "b = np.array([-0.3,-1])\n",
    "clf = ReHLine()\n",
    "clf.U, clf.V, clf.C, clf.A, clf.b = rehloss.relu_coef, rehloss.relu_intercept, C, A, b\n",
    "clf.fit(X=X)\n",
    "print('sol privided by rehline: %s' % clf.coef_)"
   ],
   "metadata": {
    "colab": {
     "base_uri": "https://localhost:8080/"
    },
    "id": "Kk03dawjzrpH",
    "outputId": "43f018bd-f2e6-44cb-b569-99bd4600be27",
    "ExecuteTime": {
     "end_time": "2025-01-03T09:30:03.056964Z",
     "start_time": "2025-01-03T09:30:03.053230Z"
    }
   },
   "outputs": [
    {
     "name": "stdout",
     "output_type": "stream",
     "text": [
      "sol privided by rehline: [ 1.34941891e-01  2.54603696e-01  1.69638746e-02  1.44481245e-01\n",
      "  9.04303147e-02  2.31398247e-01  2.69356477e-18 -5.41557530e-02\n",
      " -4.84502846e-19  1.81394027e-01]\n"
     ]
    }
   ],
   "execution_count": 11
  }
 ]
}

{
 "cells": [
  {
   "cell_type": "markdown",
   "source": [
    "# Example 3:Ridge Regression\n",
    "This example try to show how to use our PLQ Composite Decomposition tool to perform Ridge Regression."
   ],
   "metadata": {
    "collapsed": false,
    "pycharm": {
     "name": "#%% md\n"
    }
   }
  },
  {
   "cell_type": "markdown",
   "source": [
    "# 1. Data Generation"
   ],
   "metadata": {
    "collapsed": false,
    "pycharm": {
     "name": "#%% md\n"
    }
   }
  },
  {
   "cell_type": "code",
   "execution_count": 1,
   "outputs": [],
   "source": [
    "from plqcom.PLQLoss import PLQLoss\n",
    "from plqcom.PLQProperty import plq_to_rehloss\n",
    "from plqcom.ReHProperty import affine_transformation\n",
    "import numpy as np\n",
    "from rehline import ReHLine\n",
    "\n",
    "n_samples, n_features = 1000, 5\n",
    "rng = np.random.RandomState(0)\n",
    "X = rng.randn(n_samples, n_features)\n",
    "beta = rng.randn(n_features)\n",
    "y = np.dot(X, beta) + rng.normal(scale=0.1, size=n_samples)"
   ],
   "metadata": {
    "collapsed": false,
    "pycharm": {
     "name": "#%%\n"
    }
   }
  },
  {
   "cell_type": "markdown",
   "source": [
    "# 2.Create and Decompose the PLQ Loss"
   ],
   "metadata": {
    "collapsed": false,
    "pycharm": {
     "name": "#%% md\n"
    }
   }
  },
  {
   "cell_type": "code",
   "execution_count": 2,
   "outputs": [],
   "source": [
    "plqloss = PLQLoss(quad_coef={'a': np.array([1.]), 'b': np.array([0.]), 'c': np.array([0.])},\n",
    "                  cutpoints=np.array([]))"
   ],
   "metadata": {
    "collapsed": false,
    "pycharm": {
     "name": "#%%\n"
    }
   }
  },
  {
   "cell_type": "code",
   "execution_count": 3,
   "outputs": [],
   "source": [
    "rehloss = plq_to_rehloss(plqloss)"
   ],
   "metadata": {
    "collapsed": false,
    "pycharm": {
     "name": "#%%\n"
    }
   }
  },
  {
   "cell_type": "code",
   "execution_count": 4,
   "outputs": [
    {
     "data": {
      "text/plain": "(array([[inf],\n        [inf]]),\n array([[ 1.41421356],\n        [-1.41421356]]),\n array([[ 0.],\n        [-0.]]))"
     },
     "execution_count": 4,
     "metadata": {},
     "output_type": "execute_result"
    }
   ],
   "source": [
    "rehloss.rehu_cut, rehloss.rehu_coef, rehloss.rehu_intercept"
   ],
   "metadata": {
    "collapsed": false,
    "pycharm": {
     "name": "#%%\n"
    }
   }
  },
  {
   "cell_type": "markdown",
   "source": [
    "# 3. Broadcast to all samples"
   ],
   "metadata": {
    "collapsed": false,
    "pycharm": {
     "name": "#%% md\n"
    }
   }
  },
  {
   "cell_type": "code",
   "execution_count": 5,
   "outputs": [],
   "source": [
    "rehloss = affine_transformation(rehloss, n=X.shape[0], c=1, p=-1, q=y)"
   ],
   "metadata": {
    "collapsed": false,
    "pycharm": {
     "name": "#%%\n"
    }
   }
  },
  {
   "cell_type": "markdown",
   "source": [
    "# 4. Use the ReHLine to solve the problem"
   ],
   "metadata": {
    "collapsed": false,
    "pycharm": {
     "name": "#%% md\n"
    }
   }
  },
  {
   "cell_type": "code",
   "execution_count": 6,
   "outputs": [
    {
     "name": "stdout",
     "output_type": "stream",
     "text": [
      "sol privided by rehline: [ 0.31026702 -0.7385321  -1.53889185 -0.56081954 -1.60477043]\n"
     ]
    }
   ],
   "source": [
    "clf = ReHLine(loss={'name': 'custom'}, C=1)\n",
    "clf.Tau, clf.S, clf.T = rehloss.rehu_cut, rehloss.rehu_coef, rehloss.rehu_intercept\n",
    "clf.fit(X=X)\n",
    "print('sol privided by rehline: %s' % clf.coef_)"
   ],
   "metadata": {
    "collapsed": false,
    "pycharm": {
     "name": "#%%\n"
    }
   }
  },
  {
   "cell_type": "markdown",
   "source": [
    "Compare with the solution provided by sklearn"
   ],
   "metadata": {
    "collapsed": false,
    "pycharm": {
     "name": "#%% md\n"
    }
   }
  },
  {
   "cell_type": "code",
   "execution_count": 7,
   "outputs": [
    {
     "name": "stdout",
     "output_type": "stream",
     "text": [
      "sol privided by sklearn: [ 0.31017419 -0.73849146 -1.53893293 -0.56084128 -1.60476756]\n"
     ]
    }
   ],
   "source": [
    "from sklearn.linear_model import Ridge\n",
    "clf1 = Ridge(alpha=0.5)\n",
    "clf1.fit(X, y)\n",
    "print('sol privided by sklearn: %s' % clf1.coef_)"
   ],
   "metadata": {
    "collapsed": false,
    "pycharm": {
     "name": "#%%\n"
    }
   }
  }
 ],
 "metadata": {
  "kernelspec": {
   "display_name": "Python 3",
   "language": "python",
   "name": "python3"
  },
  "language_info": {
   "codemirror_mode": {
    "name": "ipython",
    "version": 2
   },
   "file_extension": ".py",
   "mimetype": "text/x-python",
   "name": "python",
   "nbconvert_exporter": "python",
   "pygments_lexer": "ipython2",
   "version": "2.7.6"
  }
 },
 "nbformat": 4,
 "nbformat_minor": 0
}
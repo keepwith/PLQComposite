{
 "cells": [
  {
   "cell_type": "markdown",
   "source": [
    "# Example 1:Hinge and Square Loss\n",
    "This example try to show how to use our PLQ Composite Decomposition tool to decompose a given loss function and use ReHLine to do classification.\n",
    "\n",
    "Given a loss function $L(z)=max(max(1-z,0)),\\frac{1}{2} (1-z)^2 )$"
   ],
   "metadata": {
    "collapsed": false,
    "pycharm": {
     "name": "#%% md\n"
    }
   }
  },
  {
   "cell_type": "code",
   "execution_count": 1,
   "outputs": [],
   "source": [
    "import numpy as np\n",
    "\n",
    "z = np.linspace(-2, 2, 100)\n",
    "L1 = np.maximum(1 - z, 0)\n",
    "L2 = 0.5 * (1 - z) ** 2"
   ],
   "metadata": {
    "collapsed": false,
    "pycharm": {
     "name": "#%%\n"
    }
   }
  },
  {
   "cell_type": "code",
   "execution_count": 2,
   "outputs": [
    {
     "data": {
      "text/plain": "<Figure size 400x300 with 1 Axes>",
      "image/png": "[encoded data removed]"
     },
     "metadata": {},
     "output_type": "display_data"
    }
   ],
   "source": [
    "import matplotlib.pyplot as plt\n",
    "\n",
    "plt.figure(figsize=(4, 3))\n",
    "plt.plot(z, L1, marker='o', label='Hinge Loss')\n",
    "plt.plot(z, L2, marker='s', label='Square Loss')\n",
    "plt.plot(z, np.maximum(L1, L2), marker='^', label='PLQ Loss')\n",
    "plt.legend()\n",
    "plt.xlabel('z')\n",
    "plt.ylabel('L(z)')\n",
    "plt.title('Hinge Loss and Square Loss')\n",
    "plt.show()"
   ],
   "metadata": {
    "collapsed": false,
    "pycharm": {
     "name": "#%%\n"
    }
   }
  },
  {
   "cell_type": "markdown",
   "source": [
    "# 1.Data Generation"
   ],
   "metadata": {
    "collapsed": false,
    "pycharm": {
     "name": "#%% md\n"
    }
   }
  },
  {
   "cell_type": "code",
   "execution_count": 3,
   "outputs": [],
   "source": [
    "from plqcom.PLQLoss import PLQLoss\n",
    "from plqcom.PLQProperty import plq_to_rehloss\n",
    "from plqcom.ReHProperty import affine_transformation\n",
    "from rehline import ReHLine\n",
    "from rehline._base import relu, rehu"
   ],
   "metadata": {
    "collapsed": false,
    "pycharm": {
     "name": "#%%\n"
    }
   }
  },
  {
   "cell_type": "markdown",
   "source": [
    "Generate a random classification dataset, where $X \\in \\mathbb{R}^{1000 \\times 3}$ and $y \\in \\mathbb\\{ -1, 1\\}^{1000}$"
   ],
   "metadata": {
    "collapsed": false,
    "pycharm": {
     "name": "#%% md\n"
    }
   }
  },
  {
   "cell_type": "code",
   "execution_count": 4,
   "outputs": [],
   "source": [
    "# Generate a random classification dataset\n",
    "n, d, C = 1000, 3, 0.5\n",
    "np.random.seed(1024)\n",
    "X = np.random.randn(n, d)\n",
    "beta = np.random.randn(d)\n",
    "y = np.sign(X.dot(beta) + np.random.randn(n))"
   ],
   "metadata": {
    "collapsed": false,
    "pycharm": {
     "name": "#%%\n"
    }
   }
  },
  {
   "cell_type": "markdown",
   "source": [
    "First 10 samples of the dataset"
   ],
   "metadata": {
    "collapsed": false,
    "pycharm": {
     "name": "#%% md\n"
    }
   }
  },
  {
   "cell_type": "code",
   "execution_count": 5,
   "outputs": [
    {
     "data": {
      "text/plain": "(array([[ 2.12444863,  0.25264613,  1.45417876],\n        [ 0.56923979,  0.45822365, -0.80933344],\n        [ 0.86407349,  0.20170137, -1.87529904],\n        [-0.56850693, -0.06510141,  0.80681666],\n        [-0.5778176 ,  0.57306064, -0.33667496],\n        [ 0.29700734, -0.37480416,  0.15510474],\n        [ 0.70485719,  0.8452178 , -0.65818079],\n        [ 0.56810558,  0.51538125, -0.61564998],\n        [ 0.92611427, -1.28591285,  1.43014026],\n        [-0.4254975 , -0.40257712,  0.60410409]]),\n array([ 1., -1., -1., -1., -1.,  1., -1., -1.,  1.,  1.]))"
     },
     "execution_count": 5,
     "metadata": {},
     "output_type": "execute_result"
    }
   ],
   "source": [
    "X[:10], y[:10]"
   ],
   "metadata": {
    "collapsed": false,
    "pycharm": {
     "name": "#%%\n"
    }
   }
  },
  {
   "cell_type": "code",
   "execution_count": 6,
   "outputs": [
    {
     "data": {
      "text/plain": "array([ 4.63095617, -1.53086335, -3.77183917,  1.49927261, -1.1677152 ,\n        0.56448038, -1.12647624, -1.09186115,  3.93541798,  1.1463427 ])"
     },
     "execution_count": 6,
     "metadata": {},
     "output_type": "execute_result"
    }
   ],
   "source": [
    "X[:10].dot(beta)"
   ],
   "metadata": {
    "collapsed": false,
    "pycharm": {
     "name": "#%%\n"
    }
   }
  },
  {
   "cell_type": "markdown",
   "source": [
    "# 2. Create and Decompose the PLQ Loss"
   ],
   "metadata": {
    "collapsed": false,
    "pycharm": {
     "name": "#%% md\n"
    }
   }
  },
  {
   "cell_type": "markdown",
   "source": [
    "Create the PLQ Loss object with the given quad_coef only.(minimax form)"
   ],
   "metadata": {
    "collapsed": false,
    "pycharm": {
     "name": "#%% md\n"
    }
   }
  },
  {
   "cell_type": "code",
   "execution_count": 7,
   "outputs": [],
   "source": [
    "plqloss_1 = PLQLoss(\n",
    "    quad_coef={'a': np.array([0., 0., 0.5]), 'b': np.array([0., -1., -1.]), 'c': np.array([0., 1., 0.5])},\n",
    "    form='minimax')"
   ],
   "metadata": {
    "collapsed": false,
    "pycharm": {
     "name": "#%%\n"
    }
   }
  },
  {
   "cell_type": "markdown",
   "source": [
    "We can also create the PLQ Loss object with the given quad_coef and cutpoints.(plq form)"
   ],
   "metadata": {
    "collapsed": false,
    "pycharm": {
     "name": "#%% md\n"
    }
   }
  },
  {
   "cell_type": "code",
   "execution_count": 8,
   "outputs": [],
   "source": [
    "plqloss_2 = PLQLoss(\n",
    "    quad_coef={'a': np.array([0.5, 0., 0.5]), 'b': np.array([-1., -1., -1.]), 'c': np.array([0.5, 1., 0.5])},\n",
    "    cutpoints=np.array([-1., 1.]),\n",
    "    form='plq')"
   ],
   "metadata": {
    "collapsed": false,
    "pycharm": {
     "name": "#%%\n"
    }
   }
  },
  {
   "cell_type": "markdown",
   "source": [
    "Convert the PLQ Loss to ReHLoss by calling its method _2ReHLoss()"
   ],
   "metadata": {
    "collapsed": false,
    "pycharm": {
     "name": "#%% md\n"
    }
   }
  },
  {
   "cell_type": "code",
   "execution_count": 9,
   "outputs": [],
   "source": [
    "rehloss_1 = plq_to_rehloss(plqloss_1)\n",
    "rehloss_2 = plq_to_rehloss(plqloss_2)"
   ],
   "metadata": {
    "collapsed": false,
    "pycharm": {
     "name": "#%%\n"
    }
   }
  },
  {
   "cell_type": "code",
   "execution_count": 10,
   "outputs": [
    {
     "data": {
      "text/plain": "(array([[-1.],\n        [-1.]]),\n array([[ 1.],\n        [-1.]]),\n array([[inf],\n        [inf]]),\n array([[-1.],\n        [ 1.]]),\n array([[-1.],\n        [-1.]]))"
     },
     "execution_count": 10,
     "metadata": {},
     "output_type": "execute_result"
    }
   ],
   "source": [
    "rehloss_1.relu_coef, rehloss_1.relu_intercept, rehloss_1.rehu_cut, rehloss_1.rehu_coef, rehloss_1.rehu_intercept\n",
    "rehloss_2.relu_coef, rehloss_2.relu_intercept, rehloss_2.rehu_cut, rehloss_2.rehu_coef, rehloss_2.rehu_intercept"
   ],
   "metadata": {
    "collapsed": false,
    "pycharm": {
     "name": "#%%\n"
    }
   }
  },
  {
   "cell_type": "code",
   "execution_count": 11,
   "outputs": [
    {
     "data": {
      "text/plain": "array([[ True],\n       [ True]])"
     },
     "execution_count": 11,
     "metadata": {},
     "output_type": "execute_result"
    }
   ],
   "source": [
    "rehloss_1.rehu_coef==rehloss_2.rehu_coef"
   ],
   "metadata": {
    "collapsed": false,
    "pycharm": {
     "name": "#%%\n"
    }
   }
  },
  {
   "cell_type": "code",
   "execution_count": 12,
   "outputs": [
    {
     "data": {
      "text/plain": "<Figure size 800x300 with 2 Axes>",
      "image/png": "[encoded data removed]"
     },
     "metadata": {},
     "output_type": "display_data"
    }
   ],
   "source": [
    "plt.figure(figsize=(8, 3))\n",
    "plt.subplot(1, 2, 1)\n",
    "Z = np.linspace(-2, 2, 1000)\n",
    "L = plqloss_1(Z)\n",
    "plt.plot(Z, L)\n",
    "plt.title('Original PLQ Loss')\n",
    "\n",
    "plt.subplot(1, 2, 2)\n",
    "relu_coef, relu_intercept = rehloss_1.relu_coef, rehloss_1.relu_intercept\n",
    "rehu_cut, rehu_coef, rehu_intercept = rehloss_1.rehu_cut, rehloss_1.rehu_coef, rehloss_1.rehu_intercept\n",
    "Reh = np.sum(rehu(rehu_coef * Z + rehu_intercept, rehu_cut), axis=0) + np.sum(relu(relu_coef * Z + relu_intercept),\n",
    "                                                                              axis=0)\n",
    "plt.plot(Z, Reh)\n",
    "plt.title('ReLU-ReHU Composition')\n",
    "plt.show()"
   ],
   "metadata": {
    "collapsed": false,
    "pycharm": {
     "name": "#%%\n"
    }
   }
  },
  {
   "cell_type": "markdown",
   "source": [
    "# 3.Broadcast to all samples"
   ],
   "metadata": {
    "collapsed": false,
    "pycharm": {
     "name": "#%% md\n"
    }
   }
  },
  {
   "cell_type": "markdown",
   "source": [
    "For this classication problem,\n",
    "$L(z)= max(max(1-z,0)),\\frac{1}{2} (1-z)^2 )$\n",
    "$L_i(z_i)=\\frac{1}{2} max(max(1-y_i z_i,0)),\\frac{1}{2} (1-y_i z_i)^2 )$\n",
    "Compare $L_i(z_i)$ with $L(z)$, we can find that $L_i(z_i)=\\frac{1}{2}L(y_i z_i)$ which is a affine transformation of $L(z)$ with $p=y_i, q=0,c=\\frac{1}{2}$."
   ],
   "metadata": {
    "collapsed": false,
    "pycharm": {
     "name": "#%% md\n"
    }
   }
  },
  {
   "cell_type": "code",
   "execution_count": 13,
   "outputs": [],
   "source": [
    "rehloss = affine_transformation(rehloss_1, n=X.shape[0], c=C, p=y, q=0)"
   ],
   "metadata": {
    "collapsed": false,
    "pycharm": {
     "name": "#%%\n"
    }
   }
  },
  {
   "cell_type": "code",
   "execution_count": 14,
   "outputs": [
    {
     "data": {
      "text/plain": "(array([[-0.5,  0.5,  0.5, ...,  0.5,  0.5, -0.5],\n        [-0.5,  0.5,  0.5, ...,  0.5,  0.5, -0.5]]),\n array([[ 0.5,  0.5,  0.5, ...,  0.5,  0.5,  0.5],\n        [-0.5, -0.5, -0.5, ..., -0.5, -0.5, -0.5]]),\n array([[inf, inf, inf, ..., inf, inf, inf],\n        [inf, inf, inf, ..., inf, inf, inf]]),\n array([[-0.70710678,  0.70710678,  0.70710678, ...,  0.70710678,\n          0.70710678, -0.70710678],\n        [ 0.70710678, -0.70710678, -0.70710678, ..., -0.70710678,\n         -0.70710678,  0.70710678]]),\n array([[-0.70710678, -0.70710678, -0.70710678, ..., -0.70710678,\n         -0.70710678, -0.70710678],\n        [-0.70710678, -0.70710678, -0.70710678, ..., -0.70710678,\n         -0.70710678, -0.70710678]]))"
     },
     "execution_count": 14,
     "metadata": {},
     "output_type": "execute_result"
    }
   ],
   "source": [
    "rehloss.relu_coef, rehloss.relu_intercept, rehloss.rehu_cut, rehloss.rehu_coef, rehloss.rehu_intercept"
   ],
   "metadata": {
    "collapsed": false,
    "pycharm": {
     "name": "#%%\n"
    }
   }
  },
  {
   "cell_type": "markdown",
   "source": [
    "# 4. Use ReHLine to solve the problem"
   ],
   "metadata": {
    "collapsed": false,
    "pycharm": {
     "name": "#%% md\n"
    }
   }
  },
  {
   "cell_type": "code",
   "execution_count": 15,
   "outputs": [
    {
     "name": "stdout",
     "output_type": "stream",
     "text": [
      "sol privided by rehline: [ 0.27532288 -0.01385027  0.86725151]\n",
      "decision_function: [0.28493769]\n",
      "precision: 0.875\n"
     ]
    }
   ],
   "source": [
    "clf = ReHLine(loss={'name': 'custom'}, C=C)\n",
    "clf.U, clf.V, clf.Tau, clf.S, clf.T = rehloss.relu_coef, rehloss.relu_intercept, rehloss.rehu_cut, rehloss.rehu_coef, rehloss.rehu_intercept\n",
    "clf.fit(X=X)\n",
    "print('sol privided by rehline: %s' % clf.coef_)\n",
    "print('decision_function: %s' % clf.decision_function([[.1,.2,.3]]))\n",
    "print('precision: %s' % (np.sum(np.sign(X.dot(clf.coef_))==y)/n))"
   ],
   "metadata": {
    "collapsed": false,
    "pycharm": {
     "name": "#%%\n"
    }
   }
  }
 ],
 "metadata": {
  "kernelspec": {
   "display_name": "Python 3",
   "language": "python",
   "name": "python3"
  },
  "language_info": {
   "codemirror_mode": {
    "name": "ipython",
    "version": 2
   },
   "file_extension": ".py",
   "mimetype": "text/x-python",
   "name": "python",
   "nbconvert_exporter": "python",
   "pygments_lexer": "ipython2",
   "version": "2.7.6"
  }
 },
 "nbformat": 4,
 "nbformat_minor": 0
}